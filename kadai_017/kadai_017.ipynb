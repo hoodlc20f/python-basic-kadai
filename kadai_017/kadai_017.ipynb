{
  "nbformat": 4,
  "nbformat_minor": 0,
  "metadata": {
    "colab": {
      "provenance": []
    },
    "kernelspec": {
      "name": "python3",
      "display_name": "Python 3"
    },
    "language_info": {
      "name": "python"
    }
  },
  "cells": [
    {
      "cell_type": "code",
      "source": [
        "# リスト作成\n",
        "human_list = []\n",
        "\n",
        "# クラス定義\n",
        "class Human:\n",
        "  def __init__(self, name, age):\n",
        "    self.name = name\n",
        "    self.age = age\n",
        "\n",
        "# メソッド定義（関数、条件分岐）\n",
        "  def check_adult(self):\n",
        "    def is_adult():\n",
        "      if self.age >= 20:\n",
        "        return True\n",
        "      else :\n",
        "        return False\n",
        "    if (is_adult()):\n",
        "      print(f\"{self.name}:大人\")\n",
        "    else :\n",
        "      print(f\"{self.name}:子供\")\n",
        "\n",
        "# インスタンス化\n",
        "human1 = Human(\"太郎\", 41)\n",
        "human2 = Human(\"次郎\", 20)\n",
        "human3 = Human(\"三郎\", 19)\n",
        "human4 = Human(\"四郎\", 5)\n",
        "\n",
        "# リストへ要素追加\n",
        "human_list.append(human1)\n",
        "human_list.append(human2)\n",
        "human_list.append(human3)\n",
        "human_list.append(human4)\n",
        "\n",
        "# メソッド呼び出し（繰り返し処理）\n",
        "for human in human_list:\n",
        "  human.check_adult()"
      ],
      "metadata": {
        "colab": {
          "base_uri": "https://localhost:8080/"
        },
        "id": "siMKOrClycIM",
        "outputId": "3ed88075-66ca-40a0-bb2a-0e6dedeb2fc1"
      },
      "execution_count": 23,
      "outputs": [
        {
          "output_type": "stream",
          "name": "stdout",
          "text": [
            "太郎:大人\n",
            "次郎:大人\n",
            "三郎:子供\n",
            "四郎:子供\n"
          ]
        }
      ]
    },
    {
      "cell_type": "code",
      "source": [
        "# ディクショナリ作成\n",
        "human_list = {}\n",
        "\n",
        "# クラス定義\n",
        "class Human:\n",
        "  def __init__(self, name, age):\n",
        "    self.name = name\n",
        "    self.age = age\n",
        "\n",
        "# メソッド定義（関数、条件分岐）\n",
        "  def check_adult(self):\n",
        "    def is_adult():\n",
        "      if self.age >= 20:\n",
        "        return True\n",
        "      else :\n",
        "        return False\n",
        "    if (is_adult()):\n",
        "      print(f\"{self.name}:大人\")\n",
        "    else :\n",
        "      print(f\"{self.name}:子供\")\n",
        "\n",
        "# ディクショナリへ要素追加\n",
        "human_list[human1] = \"太郎\"\n",
        "human_list[human2] = \"次郎\"\n",
        "human_list[human3] = \"三郎\"\n",
        "human_list[human4] = \"四郎\"\n",
        "\n",
        "# インスタンス化\n",
        "human1 = Human(\"太郎\", 41)\n",
        "human2 = Human(\"次郎\", 20)\n",
        "human3 = Human(\"三郎\", 19)\n",
        "human4 = Human(\"四郎\", 5)\n",
        "\n",
        "# メソッド呼び出し（繰り返し処理）\n",
        "for human in human_list.keys():\n",
        "  human.check_adult()"
      ],
      "metadata": {
        "colab": {
          "base_uri": "https://localhost:8080/"
        },
        "id": "EVnfrcQbE0pW",
        "outputId": "3d5f5eb5-4e9b-445b-c389-ab6a94cb8eed"
      },
      "execution_count": 25,
      "outputs": [
        {
          "output_type": "stream",
          "name": "stdout",
          "text": [
            "太郎:大人\n",
            "次郎:大人\n",
            "三郎:子供\n",
            "四郎:子供\n"
          ]
        }
      ]
    }
  ]
}