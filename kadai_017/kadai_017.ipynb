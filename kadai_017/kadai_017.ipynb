{
  "nbformat": 4,
  "nbformat_minor": 0,
  "metadata": {
    "colab": {
      "provenance": []
    },
    "kernelspec": {
      "name": "python3",
      "display_name": "Python 3"
    },
    "language_info": {
      "name": "python"
    }
  },
  "cells": [
    {
      "cell_type": "code",
      "source": [
        "class Human:\n",
        "  def __init__(self, name, age):\n",
        "    self.name = name\n",
        "    self.age = age\n",
        "  def check_adult(self, age):\n",
        "    if self.age >= 20:\n",
        "      print(f\"{self.name}:大人\")\n",
        "    else :\n",
        "      print(f\"{self.name}:子供\")\n",
        "\n",
        "# インスタンス化\n",
        "taro = Human(\"太郎\", 41)\n",
        "jiro = Human(\"次郎\", 20)\n",
        "saburo = Human(\"三郎\", 19)\n",
        "yonro = Human(\"四郎\", 5)\n",
        "\n",
        "# メソッド呼び出し\n",
        "taro.check_adult(41)\n",
        "jiro.check_adult(20)\n",
        "saburo.check_adult(19)\n",
        "yonro.check_adult(5)"
      ],
      "metadata": {
        "colab": {
          "base_uri": "https://localhost:8080/"
        },
        "id": "siMKOrClycIM",
        "outputId": "3270bb53-c488-4897-ea92-2fa2eecb444d"
      },
      "execution_count": 29,
      "outputs": [
        {
          "output_type": "stream",
          "name": "stdout",
          "text": [
            "太郎:大人\n",
            "次郎:大人\n",
            "三郎:子供\n",
            "四郎:子供\n"
          ]
        }
      ]
    }
  ]
}