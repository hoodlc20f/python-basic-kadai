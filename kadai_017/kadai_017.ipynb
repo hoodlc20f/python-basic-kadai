{
  "nbformat": 4,
  "nbformat_minor": 0,
  "metadata": {
    "colab": {
      "provenance": []
    },
    "kernelspec": {
      "name": "python3",
      "display_name": "Python 3"
    },
    "language_info": {
      "name": "python"
    }
  },
  "cells": [
    {
      "cell_type": "code",
      "source": [
        "# ディクショナリ作成\n",
        "user_datas = {}\n",
        "\n",
        "# クラス定義\n",
        "class Human:\n",
        "  def __init__(self, name, age):\n",
        "    self.name = name\n",
        "    self.age = age\n",
        "\n",
        "# メソッド定義（関数、条件分岐）\n",
        "  def check_adult(self):\n",
        "    def is_adult():\n",
        "      if self.age >= 20:\n",
        "        return True\n",
        "      else :\n",
        "        return False\n",
        "    if (is_adult()):\n",
        "      print(f\"{self.name}:大人\")\n",
        "    else :\n",
        "      print(f\"{self.name}:子供\")\n",
        "\n",
        "# ディクショナリへ要素追加\n",
        "user_datas[\"太郎\"] = 41\n",
        "user_datas[\"次郎\"] = 20\n",
        "user_datas[\"三郎\"] = 19\n",
        "user_datas[\"四郎\"] = 5\n",
        "user_datas[\"五郎\"] = 0\n",
        "\n",
        "# インスタンス化（繰り返し処理）\n",
        "# メソッド呼び出し\n",
        "for key, value in user_datas.items():\n",
        "  human = Human(key, value)\n",
        "  human.check_adult()"
      ],
      "metadata": {
        "colab": {
          "base_uri": "https://localhost:8080/"
        },
        "id": "siMKOrClycIM",
        "outputId": "53ca2ba3-f158-40d1-9cb2-21b10782384f"
      },
      "execution_count": 82,
      "outputs": [
        {
          "output_type": "stream",
          "name": "stdout",
          "text": [
            "太郎:大人\n",
            "次郎:大人\n",
            "三郎:子供\n",
            "四郎:子供\n",
            "五郎:子供\n"
          ]
        }
      ]
    }
  ]
}