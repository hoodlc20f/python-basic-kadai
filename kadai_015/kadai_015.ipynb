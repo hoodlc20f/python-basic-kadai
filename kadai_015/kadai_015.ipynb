{
  "nbformat": 4,
  "nbformat_minor": 0,
  "metadata": {
    "colab": {
      "provenance": []
    },
    "kernelspec": {
      "name": "python3",
      "display_name": "Python 3"
    },
    "language_info": {
      "name": "python"
    }
  },
  "cells": [
    {
      "cell_type": "code",
      "source": [
        "class Human:\n",
        "  def __init__(self, name, age):\n",
        "    self.name = name\n",
        "    self.age = age\n",
        "  def show_name_age(self, name, age):\n",
        "    print(self.name)\n",
        "    print(self.age)\n",
        "human = Human(\"太郎\", 26)\n",
        "human.show_name_age(\"太郎\", 26)"
      ],
      "metadata": {
        "colab": {
          "base_uri": "https://localhost:8080/"
        },
        "id": "siMKOrClycIM",
        "outputId": "7e8b0efc-34df-4b86-f730-8adda620b860"
      },
      "execution_count": 41,
      "outputs": [
        {
          "output_type": "stream",
          "name": "stdout",
          "text": [
            "太郎\n",
            "26\n"
          ]
        }
      ]
    }
  ]
}