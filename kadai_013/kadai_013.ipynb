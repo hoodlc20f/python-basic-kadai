{
  "nbformat": 4,
  "nbformat_minor": 0,
  "metadata": {
    "colab": {
      "provenance": []
    },
    "kernelspec": {
      "name": "python3",
      "display_name": "Python 3"
    },
    "language_info": {
      "name": "python"
    }
  },
  "cells": [
    {
      "cell_type": "code",
      "source": [
        "def calculate_total(price, tax):\n",
        "  total = price*(100+tax)/100\n",
        "  print(f\"商品価格は税込{total}円です\")\n",
        "calculate_total(500, 10)"
      ],
      "metadata": {
        "colab": {
          "base_uri": "https://localhost:8080/"
        },
        "id": "bFUx0MPnLcb3",
        "outputId": "012feb88-16de-4460-c814-9bfe4ed7ce4c"
      },
      "execution_count": 4,
      "outputs": [
        {
          "output_type": "stream",
          "name": "stdout",
          "text": [
            "商品価格は税込550.0円です\n"
          ]
        }
      ]
    }
  ]
}