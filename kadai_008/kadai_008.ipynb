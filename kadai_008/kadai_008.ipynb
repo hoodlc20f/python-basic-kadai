{
  "nbformat": 4,
  "nbformat_minor": 0,
  "metadata": {
    "colab": {
      "provenance": []
    },
    "kernelspec": {
      "name": "python3",
      "display_name": "Python 3"
    },
    "language_info": {
      "name": "python"
    }
  },
  "cells": [
    {
      "cell_type": "code",
      "source": [
        "import random\n",
        "var = random.randint(0, 100)\n",
        "if var%15 == 0:\n",
        "  print(\"FizzBuzz\")\n",
        "elif var%3 == 0:\n",
        "  print(\"Fizz\")\n",
        "elif var%5 == 0:\n",
        "  print(\"Buzz\")\n",
        "else:\n",
        "  print(var)"
      ],
      "metadata": {
        "colab": {
          "base_uri": "https://localhost:8080/"
        },
        "id": "K0-Gj2KnDMR2",
        "outputId": "98644c75-d4c8-45ff-84b0-3a6e3ad53850"
      },
      "execution_count": 71,
      "outputs": [
        {
          "output_type": "stream",
          "name": "stdout",
          "text": [
            "89\n"
          ]
        }
      ]
    }
  ]
}